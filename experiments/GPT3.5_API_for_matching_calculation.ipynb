{
  "cells": [
    {
      "cell_type": "code",
      "source": [
        "from google.colab import drive\n",
        "drive.mount('/content/drive')"
      ],
      "metadata": {
        "colab": {
          "base_uri": "https://localhost:8080/"
        },
        "id": "ZFYhsmQaXX7Y",
        "outputId": "d34c7a09-2ec2-4b97-ef3b-c8b31ab41631"
      },
      "execution_count": null,
      "outputs": [
        {
          "output_type": "stream",
          "name": "stdout",
          "text": [
            "Mounted at /content/drive\n"
          ]
        }
      ]
    },
    {
      "cell_type": "code",
      "source": [
        "# imports\n",
        "\n",
        "import pandas as pd\n",
        "from numpy import dot\n",
        "from numpy.linalg import norm\n",
        "import pickle\n",
        "!pip install openai\n",
        "import openai\n",
        "\n",
        "from openai.embeddings_utils import (\n",
        "    get_embedding,\n",
        "    distances_from_embeddings,\n",
        "    tsne_components_from_embeddings,\n",
        "    chart_from_components,\n",
        "    indices_of_nearest_neighbors_from_distances,\n",
        ")\n",
        "\n",
        "# constants\n",
        "#EMBEDDING_MODEL = \"text-embedding-ada-002\"\n",
        "openai.api_key = '' # Insert you openai api token\n",
        "\n",
        "### 1. Load data\n",
        "\n",
        "import json\n",
        "\n",
        "def read_jsonl(filename):\n",
        "    data = []\n",
        "    with open(filename, 'r') as file:\n",
        "        for line in file:\n",
        "            data.append(json.loads(line))\n",
        "    return data"
      ],
      "metadata": {
        "id": "1TAmrvXwVK0P"
      },
      "execution_count": null,
      "outputs": []
    },
    {
      "cell_type": "code",
      "source": [
        "### 2. Read data\n",
        "filename = '/content/test_cosqa.jsonl'\n",
        "data = read_jsonl(filename)\n",
        "\n",
        "len(data)"
      ],
      "metadata": {
        "colab": {
          "base_uri": "https://localhost:8080/"
        },
        "id": "ZVs8p6qmVypz",
        "outputId": "6aeb49cf-7c8b-4756-984c-3ace7fec574e"
      },
      "execution_count": null,
      "outputs": [
        {
          "output_type": "execute_result",
          "data": {
            "text/plain": [
              "10293"
            ]
          },
          "metadata": {},
          "execution_count": 4
        }
      ]
    },
    {
      "cell_type": "code",
      "source": [
        "### 3. print input 0\n",
        "data[0]['input']"
      ],
      "metadata": {
        "id": "-73IeAFDzk7r",
        "outputId": "6a81ca0b-c7ac-4363-c60d-2d0a7be8ef6d",
        "colab": {
          "base_uri": "https://localhost:8080/",
          "height": 35
        }
      },
      "execution_count": null,
      "outputs": [
        {
          "output_type": "execute_result",
          "data": {
            "text/plain": [
              "'Writes a Boolean to the stream . [CODESPLIT] def writeBoolean ( self , n ) : t = TYPE_BOOL_TRUE if n is False : t = TYPE_BOOL_FALSE self . stream . write ( t )'"
            ],
            "application/vnd.google.colaboratory.intrinsic+json": {
              "type": "string"
            }
          },
          "metadata": {},
          "execution_count": 5
        }
      ]
    },
    {
      "cell_type": "code",
      "source": [
        "### 4. create a dataframe to save the response"
      ],
      "metadata": {
        "id": "RSrNjicv8EeO"
      },
      "execution_count": null,
      "outputs": []
    },
    {
      "cell_type": "code",
      "source": [
        "import pandas as pd\n",
        "import numpy as np\n",
        "\n",
        "target = []\n",
        "for i in range(len(data)):\n",
        "  target.append(data[i]['target'])\n",
        "\n",
        "\n",
        "# initialize data of lists.\n",
        "data_ = {'Target': target}\n",
        "\n",
        "# Create DataFrame\n",
        "df = pd.DataFrame(data_)\n",
        "df['Prediciton'] = np.nan\n",
        "# Print the output.\n",
        "df"
      ],
      "metadata": {
        "id": "wcXsy1THV22i"
      },
      "execution_count": null,
      "outputs": []
    },
    {
      "cell_type": "code",
      "execution_count": null,
      "metadata": {
        "id": "uYhriLHnOwZk"
      },
      "outputs": [],
      "source": [
        "i=0 #start from here\n",
        "while i <= len(df):\n",
        "  prompt = \"Given a search query and a Python programming language code snippet, determine if the query accurately represents the code’s function. Respond with ’True’ if the code matches the search query and ’False’ if it does not. The input format is defined as 'search query' '[CODESPLIT]' 'code':\" + data[i]['input']\n",
        "    response = openai.ChatCompletion.create(\n",
        "        model=\"gpt-3.5-turbo\",\n",
        "        messages=[\n",
        "              {\"role\": \"user\", \"content\": prompt},\n",
        "          ],max_tokens=10, request_timeout=30)\n",
        "    df['Prediciton'][i] = response['choices'][0]['message']['content']\n",
        "  i+=1\n",
        "df.to_csv('/content/drive/MyDrive/CodeInspector/Workshop dataset paper/Results/New calculation/matching_test_cosqa.csv', index=False)"
      ]
    }
  ],
  "metadata": {
    "colab": {
      "provenance": []
    },
    "gpuClass": "standard",
    "kernelspec": {
      "display_name": "Python 3",
      "name": "python3"
    },
    "language_info": {
      "name": "python"
    }
  },
  "nbformat": 4,
  "nbformat_minor": 0
}