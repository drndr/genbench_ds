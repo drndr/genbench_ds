{
  "nbformat": 4,
  "nbformat_minor": 0,
  "metadata": {
    "colab": {
      "provenance": []
    },
    "kernelspec": {
      "name": "python3",
      "display_name": "Python 3"
    },
    "language_info": {
      "name": "python"
    }
  },
  "cells": [
    {
      "cell_type": "code",
      "source": [
        "import json\n",
        "import pandas as pd\n",
        "import re\n",
        "from tqdm import tqdm\n",
        "import os\n",
        "\n",
        "# regex pattern to find non-space before '# '\n",
        "pattern = re.compile('.*\\S# .*')\n",
        "\n",
        "def clean_comment(s):\n",
        "    s = s.replace(\"#\", \"\")\n",
        "    s = s.replace(\"-\", \"\")\n",
        "    s = s.replace(\"=\", \"\")\n",
        "    return s\n",
        "\n",
        "def remove_empty_lines(file_path):\n",
        "    with open(file_path, 'r', encoding='latin-1') as file:\n",
        "        lines = file.readlines()\n",
        "\n",
        "    # Remove empty lines\n",
        "    lines = [line for line in lines if line.strip() != '']\n",
        "\n",
        "    with open(file_path, 'w') as file:\n",
        "        file.writelines(lines)\n",
        "\n",
        "def create_comment_code_pairs(file_path):\n",
        "    comment_code_pairs = {}\n",
        "    current_comment = ''\n",
        "    library_found = False\n",
        "    exist = False\n",
        "    actual = ''\n",
        "\n",
        "    with open(file_path, 'r', encoding='latin-1') as file:\n",
        "        for line in file:\n",
        "            if 'library(' in line:\n",
        "                exist = True\n",
        "                break\n",
        "\n",
        "        file.seek(0)  # Reset the file pointer to the beginning\n",
        "\n",
        "        for line in file:\n",
        "            line = line.strip()\n",
        "\n",
        "            if line.startswith('library('):\n",
        "                # Found a library calling line\n",
        "                library_found = True\n",
        "            elif library_found or (not exist):\n",
        "                match = pattern.match(line)\n",
        "                if line.startswith('#'):\n",
        "                    # Found a comment line after the last library calling\n",
        "                    current_comment = str(current_comment) + str(line) + \" \"\n",
        "                    actual = clean_comment(current_comment)\n",
        "                elif actual and (has_multiple_words(actual)):\n",
        "                    # Found a code line following a comment\n",
        "                    if (actual not in comment_code_pairs):\n",
        "                        comment_code_pairs[actual] = ''\n",
        "\n",
        "                    comment_code_pairs[actual]+= str(line) + ' '\n",
        "                    current_comment = ''\n",
        "                else:\n",
        "                  current_comment = ''\n",
        "            # Reset the current comment if a new comment line is found\n",
        "            #if (not line.startswith((' ', '\\t'))) and line.startswith('#'):\n",
        "                #print(line)\n",
        "                #current_comment = str(current_comment) + str(line) + \" \"\n",
        "\n",
        "    return comment_code_pairs\n",
        "\n",
        "def remove_items_without_code(json_file_path):\n",
        "    # Read the JSON file\n",
        "    with open(json_file_path, 'r') as json_file:\n",
        "        data = json.load(json_file)\n",
        "\n",
        "    # Remove items without code\n",
        "    data = [item for item in data if item.get('code') != ([\"\"] and [\"\",\"\"])]\n",
        "\n",
        "    # Write the updated JSON file\n",
        "    with open(json_file_path, 'w') as json_file:\n",
        "        json.dump(data, json_file, indent=2)\n",
        "\n",
        "def has_multiple_words(text):\n",
        "    words = re.findall(r'\\b[a-zA-Z]+\\b', text)\n",
        "    return len(words) > 1"
      ],
      "metadata": {
        "id": "iORTmFM0q4mw"
      },
      "execution_count": 1,
      "outputs": []
    },
    {
      "cell_type": "code",
      "source": [
        "dict = {'comment':[],\n",
        "        'code':[]\n",
        "       }\n",
        "\n",
        "df = pd.DataFrame(dict)\n",
        "\n",
        "\n",
        "directory_path = '/content/R-code-data/R_code_files/OSF_R_files'  # Replace with the path to your R code directory\n",
        "\n",
        "# Get a list of all files in the directory\n",
        "file_list = os.listdir(directory_path)\n",
        "# Iterate over the files and read them\n",
        "for file_name in tqdm(file_list):\n",
        "      if file_name.endswith('.R') or file_name.endswith('.r'):\n",
        "\n",
        "        #print(file_name)\n",
        "        file_path = os.path.join(directory_path, file_name)\n",
        "        try:\n",
        "          remove_empty_lines(file_path)\n",
        "        except:\n",
        "          pass\n",
        "        pairs = create_comment_code_pairs(file_path)\n",
        "        comment_code_pairs = []\n",
        "        # Print the comment-code pairs\n",
        "        if pairs:\n",
        "          j=0\n",
        "          for comment, code_lines in pairs.items():\n",
        "                                    #idx = file_path.split('/')[-1] + ' ' + str(j)\n",
        "                                    df.loc[len(df.index)] = [comment, code_lines]\n",
        "                                    j+=1\n",
        "\n",
        "\n",
        "        #json.dump(comment_code_pairs, json_file, indent=2)\n",
        "        #with open(output_file, 'a') as json_file:"
      ],
      "metadata": {
        "id": "_YrCRghbQLQx",
        "colab": {
          "base_uri": "https://localhost:8080/"
        },
        "outputId": "2a8c79e9-57d8-4f66-e3ad-c2542d86438f"
      },
      "execution_count": 7,
      "outputs": [
        {
          "output_type": "stream",
          "name": "stderr",
          "text": [
            "100%|██████████| 9844/9844 [16:09<00:00, 10.16it/s]\n"
          ]
        }
      ]
    },
    {
      "cell_type": "code",
      "source": [
        "\"\"\"\n",
        "# Json format\n",
        "if pairs:\n",
        "   for comment, code_lines in pairs.items():\n",
        "                                    comment_code_pairs.append({\n",
        "                                      \"idx\": f\"{file_path.split('/')[-1]} { len(comment_code_pairs)+1}\",\n",
        "                                      \"comment\": comment,\n",
        "                                      \"code\": code_lines\n",
        "                                  })\n",
        "    json.dump(comment_code_pairs, json_file, indent=2)"
      ],
      "metadata": {
        "id": "TttI159Lk-NY"
      },
      "execution_count": null,
      "outputs": []
    },
    {
      "cell_type": "code",
      "source": [
        "len(df)"
      ],
      "metadata": {
        "colab": {
          "base_uri": "https://localhost:8080/"
        },
        "id": "NsYTTXNjJTyR",
        "outputId": "8b6b60bf-553f-42de-f425-6c815eb1edfb"
      },
      "execution_count": 8,
      "outputs": [
        {
          "output_type": "execute_result",
          "data": {
            "text/plain": [
              "122198"
            ]
          },
          "metadata": {},
          "execution_count": 8
        }
      ]
    },
    {
      "cell_type": "code",
      "source": [
        "df.head(50)"
      ],
      "metadata": {
        "id": "UtIVT9ZX5tO1"
      },
      "execution_count": null,
      "outputs": []
    },
    {
      "cell_type": "code",
      "source": [
        "df[:10000].to_csv('/content/drive/MyDrive/CodeInspector/Data/Comment-code pairs/code-comment-pairs-m-words-10K.csv', index=False, escapechar=';')\n",
        "df.to_csv('/content/drive/MyDrive/CodeInspector/Data/Comment-code pairs/code-comment-pairs-m-words-All.csv', index=False, escapechar=';')"
      ],
      "metadata": {
        "id": "_IFJbWZr5w0N"
      },
      "execution_count": 10,
      "outputs": []
    }
  ]
}